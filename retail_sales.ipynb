{
 "cells": [
  {
   "cell_type": "markdown",
   "metadata": {
    "id": "T3tknTBG68cQ"
   },
   "source": [
    "# **Retail Sales Data EDA**"
   ]
  },
  {
   "cell_type": "code",
   "execution_count": null,
   "metadata": {
    "id": "sez2s9EQ-ib4"
   },
   "outputs": [],
   "source": [
    "import pandas as pd\n",
    "import matplotlib.pyplot as plt\n",
    "from scipy import stats\n",
    "import seaborn as sns"
   ]
  },
  {
   "cell_type": "code",
   "execution_count": null,
   "metadata": {
    "colab": {
     "base_uri": "https://localhost:8080/",
     "height": 51
    },
    "executionInfo": {
     "elapsed": 860,
     "status": "ok",
     "timestamp": 1602792855843,
     "user": {
      "displayName": "Ryan",
      "photoUrl": "https://lh3.googleusercontent.com/a-/AOh14GjWfTSeP3y-nemY5yRKLjZM40fTlVcgSrI-uXy3FA=s64",
      "userId": "04614104570180003770"
     },
     "user_tz": 360
    },
    "id": "k21ZzH8pAA-Q",
    "outputId": "915468ae-eb94-47f3-b8df-76e71dcd6fa3"
   },
   "outputs": [
    {
     "name": "stdout",
     "output_type": "stream",
     "text": [
      "Mean: 3.8208963763509174\n",
      "STD: 0.5153735990855995\n"
     ]
    }
   ],
   "source": [
    "# Calculate Rating mean and standard deviation\n",
    "rating_mean = retail.rating.mean()\n",
    "rating_std = retail.rating.std()\n",
    "print('Mean: ' + str(rating_mean))\n",
    "print('STD: ' + str(rating_std))"
   ]
  },
  {
   "cell_type": "code",
   "execution_count": null,
   "metadata": {
    "colab": {
     "base_uri": "https://localhost:8080/",
     "height": 299
    },
    "executionInfo": {
     "elapsed": 615,
     "status": "ok",
     "timestamp": 1602794236615,
     "user": {
      "displayName": "Ryan",
      "photoUrl": "https://lh3.googleusercontent.com/a-/AOh14GjWfTSeP3y-nemY5yRKLjZM40fTlVcgSrI-uXy3FA=s64",
      "userId": "04614104570180003770"
     },
     "user_tz": 360
    },
    "id": "J1D1OpDqAGGJ",
    "outputId": "5fbc098f-2c7c-475f-e09a-2f69c2d31059"
   },
   "outputs": [
    {
     "name": "stdout",
     "output_type": "stream",
     "text": [
      "Skew: -0.530912194657049\n",
      "Kurt: 2.735180423524434\n"
     ]
    },
    {
     "data": {
      "image/png": "[encoded data removed]",
      "text/plain": [
       "<Figure size 432x288 with 1 Axes>"
      ]
     },
     "metadata": {
      "needs_background": "light",
      "tags": []
     },
     "output_type": "display_data"
    }
   ],
   "source": [
    "# Examine Parametric Assumption\n",
    "print('Skew: ' + str(retail.rating.skew()))\n",
    "print('Kurt: ' + str(retail.rating.kurt()))\n",
    "plt.hist(retail.rating)"
   ]
  },
  {
   "cell_type": "code",
   "execution_count": null,
   "metadata": {
    "colab": {
     "base_uri": "https://localhost:8080/",
     "height": 435
    },
    "executionInfo": {
     "elapsed": 700,
     "status": "ok",
     "timestamp": 1602794268078,
     "user": {
      "displayName": "Ryan",
      "photoUrl": "https://lh3.googleusercontent.com/a-/AOh14GjWfTSeP3y-nemY5yRKLjZM40fTlVcgSrI-uXy3FA=s64",
      "userId": "04614104570180003770"
     },
     "user_tz": 360
    },
    "id": "CPFiMEAlAGL_",
    "outputId": "bdbf1fc1-06ea-4640-d9fc-fee7de0f50f9"
   },
   "outputs": [
    {
     "name": "stdout",
     "output_type": "stream",
     "text": [
      "1.0\n",
      "5.81\n",
      "8.0\n",
      "11.0\n",
      "49.0\n"
     ]
    },
    {
     "name": "stderr",
     "output_type": "stream",
     "text": [
      "/usr/local/lib/python3.6/dist-packages/seaborn/_decorators.py:43: FutureWarning: Pass the following variable as a keyword arg: x. From version 0.12, the only valid positional argument will be `data`, and passing other arguments without an explicit keyword will result in an error or misinterpretation.\n",
      "  FutureWarning\n"
     ]
    },
    {
     "data": {
      "text/plain": [
       "<matplotlib.axes._subplots.AxesSubplot at 0x7f1701376ba8>"
      ]
     },
     "execution_count": 123,
     "metadata": {
      "tags": []
     },
     "output_type": "execute_result"
    },
    {
     "data": {
      "image/png": "[encoded data removed]",
      "text/plain": [
       "<Figure size 432x288 with 1 Axes>"
      ]
     },
     "metadata": {
      "needs_background": "light",
      "tags": []
     },
     "output_type": "display_data"
    }
   ],
   "source": [
    "# Calculate Price Portion\n",
    "price_min = retail.price.min()\n",
    "price_q1 = retail.price.quantile(0.25)\n",
    "price_median = retail.price.median()\n",
    "price_q3 = retail.price.quantile(0.75)\n",
    "price_max = retail.price.max()\n",
    "\n",
    "print(price_min)\n",
    "print(price_q1)\n",
    "print(price_median)\n",
    "print(price_q3)\n",
    "print(price_max)\n",
    "\n",
    "sns.boxplot(retail.price)"
   ]
  },
  {
   "cell_type": "markdown",
   "metadata": {
    "id": "44YHQhZm-tox"
   },
   "source": [
    "# **Univariate Plots & Distribution**"
   ]
  },
  {
   "cell_type": "code",
   "execution_count": null,
   "metadata": {
    "colab": {
     "base_uri": "https://localhost:8080/",
     "height": 321
    },
    "executionInfo": {
     "elapsed": 701,
     "status": "ok",
     "timestamp": 1602792867314,
     "user": {
      "displayName": "Ryan",
      "photoUrl": "https://lh3.googleusercontent.com/a-/AOh14GjWfTSeP3y-nemY5yRKLjZM40fTlVcgSrI-uXy3FA=s64",
      "userId": "04614104570180003770"
     },
     "user_tz": 360
    },
    "id": "v8SKeSW9_Dvj",
    "outputId": "b92f8731-f87e-4210-eefa-7aeee4c16e36"
   },
   "outputs": [
    {
     "data": {
      "text/plain": [
       "Text(0.5, 1.0, 'Distribution of Ratings')"
      ]
     },
     "execution_count": 83,
     "metadata": {
      "tags": []
     },
     "output_type": "execute_result"
    },
    {
     "data": {
      "image/png": "[encoded data removed]",
      "text/plain": [
       "<Figure size 432x288 with 1 Axes>"
      ]
     },
     "metadata": {
      "needs_background": "light",
      "tags": []
     },
     "output_type": "display_data"
    }
   ],
   "source": [
    "# Ratings Histogram\n",
    "plt.hist(retail.rating, color = 'purple')\n",
    "plt.xlabel('Ratings', color = 'white')\n",
    "plt.ylabel('Counts', color = 'white')\n",
    "plt.title('Distribution of Ratings', pad = 10, color = 'white', size = 20)"
   ]
  },
  {
   "cell_type": "code",
   "execution_count": null,
   "metadata": {
    "colab": {
     "base_uri": "https://localhost:8080/",
     "height": 372
    },
    "executionInfo": {
     "elapsed": 733,
     "status": "ok",
     "timestamp": 1602792870388,
     "user": {
      "displayName": "Ryan",
      "photoUrl": "https://lh3.googleusercontent.com/a-/AOh14GjWfTSeP3y-nemY5yRKLjZM40fTlVcgSrI-uXy3FA=s64",
      "userId": "04614104570180003770"
     },
     "user_tz": 360
    },
    "id": "YBo5uuVMA8k_",
    "outputId": "95b8409a-951b-40ed-9ff2-fac15752b587"
   },
   "outputs": [
    {
     "data": {
      "text/plain": [
       "Text(0.5, 1.0, 'Retail Price 5-figure Summary')"
      ]
     },
     "execution_count": 84,
     "metadata": {
      "tags": []
     },
     "output_type": "execute_result"
    },
    {
     "data": {
      "image/png": "[encoded data removed]",
      "text/plain": [
       "<Figure size 720x360 with 1 Axes>"
      ]
     },
     "metadata": {
      "needs_background": "light",
      "tags": []
     },
     "output_type": "display_data"
    }
   ],
   "source": [
    "# Price Boxplot\n",
    "plt.figure(figsize=(10,5))\n",
    "ax = sns.boxplot(x = retail.price, color = 'green')\n",
    "ax.set_title('Retail Price 5-figure Summary', color = 'white', size = 20)"
   ]
  },
  {
   "cell_type": "markdown",
   "metadata": {
    "id": "1FE3cDJk_Ttv"
   },
   "source": [
    "# **Correlations**"
   ]
  },
  {
   "cell_type": "code",
   "execution_count": null,
   "metadata": {
    "colab": {
     "base_uri": "https://localhost:8080/",
     "height": 102
    },
    "executionInfo": {
     "elapsed": 593,
     "status": "ok",
     "timestamp": 1602793443198,
     "user": {
      "displayName": "Ryan",
      "photoUrl": "https://lh3.googleusercontent.com/a-/AOh14GjWfTSeP3y-nemY5yRKLjZM40fTlVcgSrI-uXy3FA=s64",
      "userId": "04614104570180003770"
     },
     "user_tz": 360
    },
    "id": "2y2cSFiJFqu9",
    "outputId": "bcd7a681-d4ee-4698-d1d1-c3b7d34d17d8"
   },
   "outputs": [
    {
     "name": "stdout",
     "output_type": "stream",
     "text": [
      "2.3528524718272195\n",
      "3.700248614698271\n",
      "0.30474760499855424\n",
      "3.6828783885726557e-35\n",
      "0.18552430110339174\n"
     ]
    }
   ],
   "source": [
    "# Find R and p-value for price and retail price\n",
    "# Find slope and intercept for the regression line\n",
    "m, b, corr, p_value, error = stats.linregress(retail.price, retail.retail_price)\n",
    "\n",
    "\n",
    "print(m)\n",
    "print(b)\n",
    "print(corr)\n",
    "print(p_value)\n",
    "print(error)"
   ]
  },
  {
   "cell_type": "code",
   "execution_count": null,
   "metadata": {
    "colab": {
     "base_uri": "https://localhost:8080/",
     "height": 350
    },
    "executionInfo": {
     "elapsed": 822,
     "status": "ok",
     "timestamp": 1602792887839,
     "user": {
      "displayName": "Ryan",
      "photoUrl": "https://lh3.googleusercontent.com/a-/AOh14GjWfTSeP3y-nemY5yRKLjZM40fTlVcgSrI-uXy3FA=s64",
      "userId": "04614104570180003770"
     },
     "user_tz": 360
    },
    "id": "HL0tA_dPHRfG",
    "outputId": "ad9b5664-9e90-45f6-a088-9c6ffc7126ec"
   },
   "outputs": [
    {
     "name": "stderr",
     "output_type": "stream",
     "text": [
      "/usr/local/lib/python3.6/dist-packages/seaborn/_decorators.py:43: FutureWarning: Pass the following variables as keyword args: x, y. From version 0.12, the only valid positional argument will be `data`, and passing other arguments without an explicit keyword will result in an error or misinterpretation.\n",
      "  FutureWarning\n"
     ]
    },
    {
     "data": {
      "text/plain": [
       "<matplotlib.axes._subplots.AxesSubplot at 0x7f1709626a20>"
      ]
     },
     "execution_count": 87,
     "metadata": {
      "tags": []
     },
     "output_type": "execute_result"
    },
    {
     "data": {
      "image/png": "[encoded data removed]",
      "text/plain": [
       "<Figure size 432x288 with 1 Axes>"
      ]
     },
     "metadata": {
      "needs_background": "light",
      "tags": []
     },
     "output_type": "display_data"
    }
   ],
   "source": [
    "# Visualize the relationship with a regression line\n",
    "sns.regplot(retail.price, retail.retail_price)"
   ]
  },
  {
   "cell_type": "markdown",
   "metadata": {
    "id": "TB-PsFGz_tpB"
   },
   "source": [
    "# **Ad Boost t-Test**\n",
    "Examine whether increasing the size of the audience that sees a product via \"Ad Boosts\" results in more sales. Did ad-boosted items sell more units (`units_sold`)."
   ]
  },
  {
   "cell_type": "code",
   "execution_count": null,
   "metadata": {
    "colab": {
     "base_uri": "https://localhost:8080/",
     "height": 425
    },
    "executionInfo": {
     "elapsed": 696,
     "status": "ok",
     "timestamp": 1602793832721,
     "user": {
      "displayName": "Ryan",
      "photoUrl": "https://lh3.googleusercontent.com/a-/AOh14GjWfTSeP3y-nemY5yRKLjZM40fTlVcgSrI-uXy3FA=s64",
      "userId": "04614104570180003770"
     },
     "user_tz": 360
    },
    "id": "WA4LhDkr6KhM",
    "outputId": "cd802154-3343-4949-9e07-354bd487a28b"
   },
   "outputs": [
    {
     "name": "stdout",
     "output_type": "stream",
     "text": [
      "1       20000\n",
      "3        5000\n",
      "4         100\n",
      "8         100\n",
      "11        100\n",
      "        ...  \n",
      "1566      100\n",
      "1567    20000\n",
      "1568    10000\n",
      "1569      100\n",
      "1572      100\n",
      "Name: units_sold, Length: 681, dtype: int64\n",
      "0         100\n",
      "2         100\n",
      "5          10\n",
      "6       50000\n",
      "7        1000\n",
      "        ...  \n",
      "1562      100\n",
      "1563      100\n",
      "1564     1000\n",
      "1570      100\n",
      "1571      100\n",
      "Name: units_sold, Length: 892, dtype: int64\n"
     ]
    }
   ],
   "source": [
    "boosted = retail.loc[retail.uses_ad_boosts == 1, 'units_sold']\n",
    "not_boosted = retail.loc[retail.uses_ad_boosts == 0, 'units_sold']\n",
    "\n",
    "print(boosted)\n",
    "print(not_boosted)"
   ]
  },
  {
   "cell_type": "code",
   "execution_count": null,
   "metadata": {
    "colab": {
     "base_uri": "https://localhost:8080/",
     "height": 350
    },
    "executionInfo": {
     "elapsed": 692,
     "status": "ok",
     "timestamp": 1602793842240,
     "user": {
      "displayName": "Ryan",
      "photoUrl": "https://lh3.googleusercontent.com/a-/AOh14GjWfTSeP3y-nemY5yRKLjZM40fTlVcgSrI-uXy3FA=s64",
      "userId": "04614104570180003770"
     },
     "user_tz": 360
    },
    "id": "9QRVBLMm9QZy",
    "outputId": "8b5b1a21-d5e6-4cf8-a170-9badf74ad542"
   },
   "outputs": [
    {
     "data": {
      "text/plain": [
       "(array([822.,  54.,   0.,   0.,  13.,   0.,   0.,   0.,   0.,   3.]),\n",
       " array([1.00000e+00, 1.00009e+04, 2.00008e+04, 3.00007e+04, 4.00006e+04,\n",
       "        5.00005e+04, 6.00004e+04, 7.00003e+04, 8.00002e+04, 9.00001e+04,\n",
       "        1.00000e+05]),\n",
       " <a list of 10 Patch objects>)"
      ]
     },
     "execution_count": 112,
     "metadata": {
      "tags": []
     },
     "output_type": "execute_result"
    },
    {
     "data": {
      "image/png": "[encoded data removed]",
      "text/plain": [
       "<Figure size 432x288 with 1 Axes>"
      ]
     },
     "metadata": {
      "needs_background": "light",
      "tags": []
     },
     "output_type": "display_data"
    }
   ],
   "source": [
    "plt.hist(not_boosted)"
   ]
  },
  {
   "cell_type": "code",
   "execution_count": null,
   "metadata": {
    "colab": {
     "base_uri": "https://localhost:8080/",
     "height": 350
    },
    "executionInfo": {
     "elapsed": 616,
     "status": "ok",
     "timestamp": 1602793853309,
     "user": {
      "displayName": "Ryan",
      "photoUrl": "https://lh3.googleusercontent.com/a-/AOh14GjWfTSeP3y-nemY5yRKLjZM40fTlVcgSrI-uXy3FA=s64",
      "userId": "04614104570180003770"
     },
     "user_tz": 360
    },
    "id": "R1dM4Tui9S0m",
    "outputId": "94765bd7-897e-494e-81fa-da43583dc4de"
   },
   "outputs": [
    {
     "data": {
      "text/plain": [
       "(array([625.,  49.,   0.,   0.,   4.,   0.,   0.,   0.,   0.,   3.]),\n",
       " array([1.0000e+01, 1.0009e+04, 2.0008e+04, 3.0007e+04, 4.0006e+04,\n",
       "        5.0005e+04, 6.0004e+04, 7.0003e+04, 8.0002e+04, 9.0001e+04,\n",
       "        1.0000e+05]),\n",
       " <a list of 10 Patch objects>)"
      ]
     },
     "execution_count": 113,
     "metadata": {
      "tags": []
     },
     "output_type": "execute_result"
    },
    {
     "data": {
      "image/png": "[encoded data removed]",
      "text/plain": [
       "<Figure size 432x288 with 1 Axes>"
      ]
     },
     "metadata": {
      "needs_background": "light",
      "tags": []
     },
     "output_type": "display_data"
    }
   ],
   "source": [
    "plt.hist(boosted)"
   ]
  },
  {
   "cell_type": "code",
   "execution_count": null,
   "metadata": {
    "id": "7ed_C0z19kcK"
   },
   "outputs": [],
   "source": [
    "boosted_df = pd.DataFrame(boosted)"
   ]
  },
  {
   "cell_type": "code",
   "execution_count": null,
   "metadata": {
    "id": "sZ-V41Nf9sMH"
   },
   "outputs": [],
   "source": [
    "not_boosted_df = pd.DataFrame(not_boosted)"
   ]
  },
  {
   "cell_type": "code",
   "execution_count": null,
   "metadata": {
    "colab": {
     "base_uri": "https://localhost:8080/",
     "height": 297
    },
    "executionInfo": {
     "elapsed": 699,
     "status": "ok",
     "timestamp": 1602794008024,
     "user": {
      "displayName": "Ryan",
      "photoUrl": "https://lh3.googleusercontent.com/a-/AOh14GjWfTSeP3y-nemY5yRKLjZM40fTlVcgSrI-uXy3FA=s64",
      "userId": "04614104570180003770"
     },
     "user_tz": 360
    },
    "id": "jxiSkdTI94J6",
    "outputId": "076a4aa8-5af4-4603-c39f-0a6b122a863c"
   },
   "outputs": [
    {
     "data": {
      "text/html": [
       "<div>\n",
       "<style scoped>\n",
       "    .dataframe tbody tr th:only-of-type {\n",
       "        vertical-align: middle;\n",
       "    }\n",
       "\n",
       "    .dataframe tbody tr th {\n",
       "        vertical-align: top;\n",
       "    }\n",
       "\n",
       "    .dataframe thead th {\n",
       "        text-align: right;\n",
       "    }\n",
       "</style>\n",
       "<table border=\"1\" class=\"dataframe\">\n",
       "  <thead>\n",
       "    <tr style=\"text-align: right;\">\n",
       "      <th></th>\n",
       "      <th>units_sold</th>\n",
       "    </tr>\n",
       "  </thead>\n",
       "  <tbody>\n",
       "    <tr>\n",
       "      <th>count</th>\n",
       "      <td>681.000000</td>\n",
       "    </tr>\n",
       "    <tr>\n",
       "      <th>mean</th>\n",
       "      <td>4167.136564</td>\n",
       "    </tr>\n",
       "    <tr>\n",
       "      <th>std</th>\n",
       "      <td>9182.698142</td>\n",
       "    </tr>\n",
       "    <tr>\n",
       "      <th>min</th>\n",
       "      <td>10.000000</td>\n",
       "    </tr>\n",
       "    <tr>\n",
       "      <th>25%</th>\n",
       "      <td>100.000000</td>\n",
       "    </tr>\n",
       "    <tr>\n",
       "      <th>50%</th>\n",
       "      <td>1000.000000</td>\n",
       "    </tr>\n",
       "    <tr>\n",
       "      <th>75%</th>\n",
       "      <td>5000.000000</td>\n",
       "    </tr>\n",
       "    <tr>\n",
       "      <th>max</th>\n",
       "      <td>100000.000000</td>\n",
       "    </tr>\n",
       "  </tbody>\n",
       "</table>\n",
       "</div>"
      ],
      "text/plain": [
       "          units_sold\n",
       "count     681.000000\n",
       "mean     4167.136564\n",
       "std      9182.698142\n",
       "min        10.000000\n",
       "25%       100.000000\n",
       "50%      1000.000000\n",
       "75%      5000.000000\n",
       "max    100000.000000"
      ]
     },
     "execution_count": 117,
     "metadata": {
      "tags": []
     },
     "output_type": "execute_result"
    }
   ],
   "source": [
    "pd.DataFrame.describe(boosted_df)"
   ]
  },
  {
   "cell_type": "code",
   "execution_count": null,
   "metadata": {
    "colab": {
     "base_uri": "https://localhost:8080/",
     "height": 297
    },
    "executionInfo": {
     "elapsed": 669,
     "status": "ok",
     "timestamp": 1602794033579,
     "user": {
      "displayName": "Ryan",
      "photoUrl": "https://lh3.googleusercontent.com/a-/AOh14GjWfTSeP3y-nemY5yRKLjZM40fTlVcgSrI-uXy3FA=s64",
      "userId": "04614104570180003770"
     },
     "user_tz": 360
    },
    "id": "tfJWWWcd99J_",
    "outputId": "f11e8dfc-b17f-4bb6-efcd-6daac898a662"
   },
   "outputs": [
    {
     "data": {
      "text/html": [
       "<div>\n",
       "<style scoped>\n",
       "    .dataframe tbody tr th:only-of-type {\n",
       "        vertical-align: middle;\n",
       "    }\n",
       "\n",
       "    .dataframe tbody tr th {\n",
       "        vertical-align: top;\n",
       "    }\n",
       "\n",
       "    .dataframe thead th {\n",
       "        text-align: right;\n",
       "    }\n",
       "</style>\n",
       "<table border=\"1\" class=\"dataframe\">\n",
       "  <thead>\n",
       "    <tr style=\"text-align: right;\">\n",
       "      <th></th>\n",
       "      <th>units_sold</th>\n",
       "    </tr>\n",
       "  </thead>\n",
       "  <tbody>\n",
       "    <tr>\n",
       "      <th>count</th>\n",
       "      <td>892.000000</td>\n",
       "    </tr>\n",
       "    <tr>\n",
       "      <th>mean</th>\n",
       "      <td>4470.218610</td>\n",
       "    </tr>\n",
       "    <tr>\n",
       "      <th>std</th>\n",
       "      <td>9490.149242</td>\n",
       "    </tr>\n",
       "    <tr>\n",
       "      <th>min</th>\n",
       "      <td>1.000000</td>\n",
       "    </tr>\n",
       "    <tr>\n",
       "      <th>25%</th>\n",
       "      <td>100.000000</td>\n",
       "    </tr>\n",
       "    <tr>\n",
       "      <th>50%</th>\n",
       "      <td>1000.000000</td>\n",
       "    </tr>\n",
       "    <tr>\n",
       "      <th>75%</th>\n",
       "      <td>5000.000000</td>\n",
       "    </tr>\n",
       "    <tr>\n",
       "      <th>max</th>\n",
       "      <td>100000.000000</td>\n",
       "    </tr>\n",
       "  </tbody>\n",
       "</table>\n",
       "</div>"
      ],
      "text/plain": [
       "          units_sold\n",
       "count     892.000000\n",
       "mean     4470.218610\n",
       "std      9490.149242\n",
       "min         1.000000\n",
       "25%       100.000000\n",
       "50%      1000.000000\n",
       "75%      5000.000000\n",
       "max    100000.000000"
      ]
     },
     "execution_count": 118,
     "metadata": {
      "tags": []
     },
     "output_type": "execute_result"
    }
   ],
   "source": [
    "pd.DataFrame.describe(not_boosted_df)"
   ]
  },
  {
   "cell_type": "code",
   "execution_count": null,
   "metadata": {
    "colab": {
     "base_uri": "https://localhost:8080/",
     "height": 51
    },
    "executionInfo": {
     "elapsed": 559,
     "status": "ok",
     "timestamp": 1602793355794,
     "user": {
      "displayName": "Ryan",
      "photoUrl": "https://lh3.googleusercontent.com/a-/AOh14GjWfTSeP3y-nemY5yRKLjZM40fTlVcgSrI-uXy3FA=s64",
      "userId": "04614104570180003770"
     },
     "user_tz": 360
    },
    "id": "-8woE9pU7NGt",
    "outputId": "77700d52-2b0a-4576-f8cb-17c6eb5556a8"
   },
   "outputs": [
    {
     "name": "stdout",
     "output_type": "stream",
     "text": [
      "-0.6364354869040417\n",
      "0.5245853312335857\n"
     ]
    }
   ],
   "source": [
    "ad_test_stat, ad_p_value = stats.ttest_ind(boosted, not_boosted)\n",
    "\n",
    "print(ad_test_stat)\n",
    "print(ad_p_value)"
   ]
  }
 ],
 "metadata": {
  "colab": {
   "collapsed_sections": [],
   "name": "Checkpoint04_ShieldsRyan.ipynb",
   "provenance": [],
   "toc_visible": true
  },
  "kernelspec": {
   "display_name": "Python 3 (ipykernel)",
   "language": "python",
   "name": "python3"
  },
  "language_info": {
   "codemirror_mode": {
    "name": "ipython",
    "version": 3
   },
   "file_extension": ".py",
   "mimetype": "text/x-python",
   "name": "python",
   "nbconvert_exporter": "python",
   "pygments_lexer": "ipython3",
   "version": "3.10.12"
  }
 },
 "nbformat": 4,
 "nbformat_minor": 4
}
